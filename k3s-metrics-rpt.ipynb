{
 "cells": [
  {
   "cell_type": "markdown",
   "id": "10c9633a-ac7e-4c80-837a-54ab60734cd7",
   "metadata": {},
   "source": [
    "# kubectl top stats (.csv) file analysis notebook\n",
    "- copy the kube-top-stats .csv file to the docker mounted volume which is the directory from where you started this container\n",
    "  \n",
    "- make sure we have column header name as the 1st row in the below order _timeStamp,nameSpace,podName,containerName,cpuRequest,cpuUsage,memRequest,memUsage,cpuLimit,memLimit_\n",
    "\n",
    "> *Dataframe is sensitive to whitespaces, make sure in the label and other places there are not leading/trailing whitespaces at all*\n"
   ]
  },
  {
   "cell_type": "code",
   "execution_count": null,
   "id": "d9b1d754-cee5-4e7f-8084-490506f6ce39",
   "metadata": {
    "editable": true,
    "slideshow": {
     "slide_type": ""
    },
    "tags": []
   },
   "outputs": [],
   "source": [
    "import pandas as pd\n",
    "import seaborn.objects as so\n",
    "import seaborn as sns\n",
    "\n",
    "file_path = '/home/ubuntu/work/kube-top-stats.csv'\n",
    "df = pd.read_csv(file_path)\n",
    "\n",
    "df['timeStamp'] = pd.to_datetime(df['timeStamp'], format='%Y-%m-%dT%H:%M:%S')\n",
    "\n",
    "# filter out with pod name\n",
    "# df_filtered = df[df.podName.str.match('kafka-0.*',na=False)]\n",
    "df_filtered = df[df.podName.str.match('.*',na=False)]\n",
    "\n",
    "# generate a new column cpuBurstPct & memBurstPct - burstable QoS\n",
    "df_filtered ['cpuBurstPct'] = 100*df_filtered['cpuLimit']/df_filtered['cpuRequest']\n",
    "df_filtered ['memBurstPct'] = 100*df_filtered['memLimit']/df_filtered['memRequest']\n",
    "\n",
    "# generate a new column cpuOveragePct & memOveragePct\n",
    "df_filtered ['cpuOveragePct'] = 100*df_filtered['cpuUsage']/df_filtered['cpuRequest']\n",
    "df_filtered ['memOveragePct'] = 100*df_filtered['memUsage']/df_filtered['memRequest']\n"
   ]
  },
  {
   "cell_type": "markdown",
   "id": "4df383c9-567a-4349-9c3c-2e95313db318",
   "metadata": {},
   "source": [
    "## Total sampling duration"
   ]
  },
  {
   "cell_type": "code",
   "execution_count": null,
   "id": "274741b6-6cf3-4214-bce3-8a85efb1f00e",
   "metadata": {},
   "outputs": [],
   "source": [
    "df.reset_index().set_index('timeStamp',inplace=True)\n",
    "print (df.timeStamp.iloc[-1] -df.timeStamp.iloc[0])"
   ]
  },
  {
   "cell_type": "markdown",
   "id": "377c498c-8d33-4695-8ff5-26a5feebf59b",
   "metadata": {},
   "source": [
    "## CPU/mem allocation summary\n",
    "breakup by container name"
   ]
  },
  {
   "cell_type": "code",
   "execution_count": null,
   "id": "5a4fe8c6-88f0-4b5f-b47e-a78ad83f93f9",
   "metadata": {},
   "outputs": [],
   "source": [
    "# QoS - bursting headroom in %, which is calculated from the limit and request setting of the container\n",
    "df_filtered.groupby('containerName')['memBurstPct'].max ()"
   ]
  },
  {
   "cell_type": "code",
   "execution_count": null,
   "id": "70f885d7-e2bd-4106-9434-104c1f5c95cb",
   "metadata": {},
   "outputs": [],
   "source": [
    "# QoS - bursting headroom in %, which is calculated from the limit and request setting of the container\n",
    "df_filtered.groupby('containerName')['cpuBurstPct'].max ()"
   ]
  },
  {
   "cell_type": "markdown",
   "id": "31ebda0f-84ef-4c16-83d4-5c5c425606c6",
   "metadata": {},
   "source": [
    "## CPU/mem utilization summary in micore, MiB\n",
    "breakup by container name"
   ]
  },
  {
   "cell_type": "code",
   "execution_count": null,
   "id": "5320c3d6-28b8-40b9-9783-ee7bbfcf0603",
   "metadata": {},
   "outputs": [],
   "source": [
    "# container level mem utilization metric\n",
    "df_filtered.groupby('containerName')['memUsage'].describe (percentiles =[.5, .9, .95, .99])"
   ]
  },
  {
   "cell_type": "code",
   "execution_count": null,
   "id": "dc377fb1-9eaf-4cad-8a3b-c06a9915bf51",
   "metadata": {},
   "outputs": [],
   "source": [
    "# container level cpu utilization metric\n",
    "df_filtered.groupby('containerName')['cpuUsage'].describe (percentiles =[.5, .9, .95, .99])"
   ]
  },
  {
   "cell_type": "markdown",
   "id": "19ab01e9-a99f-4ea6-b10a-648742daff9e",
   "metadata": {},
   "source": [
    "## CPU/mem overage as % of containers.resources.requests.memory/cpu\n",
    "breakup by container name"
   ]
  },
  {
   "cell_type": "code",
   "execution_count": null,
   "id": "3ab237e5-65de-46e9-8384-cf1893aad907",
   "metadata": {},
   "outputs": [],
   "source": [
    "# container level mem utilization overage %\n",
    "df_filtered.groupby('containerName')['memOveragePct'].describe (percentiles =[.5, .9, .95, .99])"
   ]
  },
  {
   "cell_type": "code",
   "execution_count": null,
   "id": "0480351d-21b3-4625-abeb-6080585b482a",
   "metadata": {},
   "outputs": [],
   "source": [
    "# container level cpu utilization overage %\n",
    "df_filtered.groupby('containerName')['cpuOveragePct'].describe (percentiles =[.5, .9, .95, .99])"
   ]
  },
  {
   "cell_type": "markdown",
   "id": "161bde12-b518-479f-a31e-162b9a0c4bb7",
   "metadata": {},
   "source": [
    "## Downsampling cpuUsage, memUsage, cpuOveragePct, memOveragePct filter by a specific container\n",
    "5 sec interval with aggregation function max applied"
   ]
  },
  {
   "cell_type": "code",
   "execution_count": 180,
   "id": "67bce01f-13f9-4890-b847-1279e6b80bcf",
   "metadata": {},
   "outputs": [
    {
     "data": {
      "text/plain": [
       "<Axes: xlabel='timeStamp'>"
      ]
     },
     "execution_count": 180,
     "metadata": {},
     "output_type": "execute_result"
    },
    {
     "data": {
      "image/png": "[encoded data removed]",
      "text/plain": [
       "<Figure size 640x480 with 1 Axes>"
      ]
     },
     "metadata": {},
     "output_type": "display_data"
    }
   ],
   "source": [
    "# convert the index to DatetimeIndex from RangeIndex for aiding with downsampling etc\n",
    "#df_downsample = df_filtered.copy()\n",
    "df_downsample = df_filtered[df_filtered.podName.str.match('.*kafka.*',na=False)]\n",
    "df_downsample.set_index('timeStamp',inplace=True)\n",
    "\n",
    "# agg 5sec\n",
    "df_downsample = df_downsample[[\"cpuUsage\",\"memUsage\",\"cpuOveragePct\", \"memOveragePct\"]].resample(\"5s\").max()\n",
    "# agg daily\n",
    "#df_downsample = df_downsample[[\"cpuUsage\",\"memUsage\",\"cpuOveragePct\", \"memOveragePct\"]].resample(\"1D\").max()\n",
    "\n",
    "df_downsample.plot()"
   ]
  },
  {
   "cell_type": "markdown",
   "id": "5a28d882-d2ab-4095-857f-a58bff969014",
   "metadata": {},
   "source": [
    "## Pivot table cpuUsage, splitup by pod name & container name\n",
    "Aggregation max/min/mean/count"
   ]
  },
  {
   "cell_type": "code",
   "execution_count": null,
   "id": "80b6090b-9792-4391-9886-5ff86b4a6a94",
   "metadata": {},
   "outputs": [],
   "source": [
    "p_table = pd.pivot_table( data=df_filtered, \n",
    "                        index=['podName'], \n",
    "                        columns=['containerName'], \n",
    "                        values='cpuUsage',\n",
    "                        aggfunc=['max','min', 'mean', 'count'],\n",
    "                        fill_value=\"None\")\n",
    "\n",
    "p_table\n",
    "#p_table[p_table[\"cpuUsage\"] > 5000]"
   ]
  }
 ],
 "metadata": {
  "kernelspec": {
   "display_name": "Python 3 (ipykernel)",
   "language": "python",
   "name": "python3"
  },
  "language_info": {
   "codemirror_mode": {
    "name": "ipython",
    "version": 3
   },
   "file_extension": ".py",
   "mimetype": "text/x-python",
   "name": "python",
   "nbconvert_exporter": "python",
   "pygments_lexer": "ipython3",
   "version": "3.11.4"
  }
 },
 "nbformat": 4,
 "nbformat_minor": 5
}
