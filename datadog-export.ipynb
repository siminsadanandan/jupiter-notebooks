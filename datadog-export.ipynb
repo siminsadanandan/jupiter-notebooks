{
 "cells": [
  {
   "cell_type": "markdown",
   "id": "0ee93057-44fa-4dcb-ad68-a99b04638c92",
   "metadata": {},
   "source": [
    "# Datadog metrics analysis using datadog-api-client \n",
    "> install datadog-api-client dependency using command in the notebook itself !pip3 install datadog-api-client\n",
    "\n",
    "> update __api_key, app_key, and api_host__"
   ]
  },
  {
   "cell_type": "code",
   "execution_count": null,
   "id": "2f4baa60-a789-406d-8b6e-e5715bd3f8e1",
   "metadata": {},
   "outputs": [],
   "source": [
    "from datetime import datetime\n",
    "from datadog_api_client import ApiClient, Configuration\n",
    "from datadog_api_client.v1.api.metrics_api import MetricsApi\n",
    "import pandas as pd\n",
    "\n",
    "configuration = Configuration()\n",
    "configuration.api_key[\"apiKeyAuth\"] = \"6d219dd0bf16esimb229dd42a044772\"\n",
    "configuration.api_key[\"appKeyAuth\"] = \"94c66b397bcd6dsim37f80ad3b2fd44d4a08c4df\"\n",
    "configuration.server_variables[\"site\"] = \"us5.datadoghq.com\""
   ]
  },
  {
   "cell_type": "markdown",
   "id": "11a475bb-77b6-4d6b-a68c-c73b7a700657",
   "metadata": {},
   "source": [
    "> Specify the time period in epoch format over which you want to fetch the data. \n",
    "\n",
    "> time_delta in _sec_,  adjust this to get more granular data, but having a very low granularity can results in http/429 throttling limit error\n",
    "\n",
    "Extraction Logic :\n",
    "\n",
    "    - take the datadog query\n",
    "    \n",
    "    - pass the query to datadog api with a time span of time_delta milliseconds -> This would pull data in spans of T to T + time_delta\n",
    "    \n",
    "    - append this data to a pandas dataframe"
   ]
  },
  {
   "cell_type": "code",
   "execution_count": null,
   "id": "08755294-98a4-47d1-8f7b-cc99ff3eef5a",
   "metadata": {},
   "outputs": [],
   "source": [
    "start = 1690113776  \n",
    "end = 1690386584 \n",
    "\n",
    "# run datadog metric collection for every 600 sec (10 min) window. \n",
    "# This will remove the granularity issue discussed in the blog. \n",
    "time_delta = 72000"
   ]
  },
  {
   "cell_type": "markdown",
   "id": "b9d88b41-7726-428b-ba51-4faafe2b4865",
   "metadata": {},
   "source": [
    "> define query we want to run in datadog for data extraction"
   ]
  },
  {
   "cell_type": "code",
   "execution_count": null,
   "id": "520033c4-7cd6-465c-b138-61e191b830fc",
   "metadata": {},
   "outputs": [],
   "source": [
    "cpu_sys_util_query = 'avg:system.cpu.system{*}' \n",
    "cpu_usr_util_query = 'avg:system.cpu.user{*}' "
   ]
  },
  {
   "cell_type": "code",
   "execution_count": null,
   "id": "00df0910-cdba-4995-8da3-243bf12a53f4",
   "metadata": {
    "editable": true,
    "slideshow": {
     "slide_type": ""
    },
    "tags": []
   },
   "outputs": [],
   "source": [
    "datetime_list = []\n",
    "value_list = []\n",
    "metric_list = []\n",
    "\n",
    "def extract(query, start_at, end_at, time_delta):\n",
    "        \n",
    "    iteration_end = start_at + time_delta \n",
    "\n",
    "    while (iteration_end <= end_at):\n",
    "\n",
    "        with ApiClient(configuration) as api_client:\n",
    "            api_instance = MetricsApi(api_client)\n",
    "            response = api_instance.query_metrics(\n",
    "              #  _from=int((datetime.now() + relativedelta(second=-3)).timestamp()),\n",
    "              #  to=int(datetime.now().timestamp()),\n",
    "                _from=start_at,\n",
    "                to=iteration_end,            \n",
    "                query=query,\n",
    "            )\n",
    "        for datadog_result in response['series']:\n",
    "            for time_value_pair_list in datadog_result['pointlist']:\n",
    "                str_arr = str(time_value_pair_list)\n",
    "                arr_x, arr_y = str_arr.split(',')\n",
    "                converted_datetime = int(float(arr_x.replace('[','')))\n",
    "                cntr_val = arr_y.replace(']','')\n",
    "                datetime_list.append(converted_datetime/1000)\n",
    "                value_list.append(float(cntr_val))\n",
    "                metric_list.append(datadog_result['metric']) # store the query that was executed in datadog.\n",
    "\n",
    "        start_at = iteration_end # change start time as end of last iteration\n",
    "        iteration_end = iteration_end + time_delta # increment reading frame\n",
    "            \n",
    "        all_data = {\n",
    "        'datetime': datetime_list,\n",
    "        'value': value_list,\n",
    "        'metric': metric_list\n",
    "        }\n",
    "    return pd.DataFrame.from_dict(all_data)\n",
    "\n",
    "data_cpu_metrics = extract(cpu_sys_util_query, start, end, time_delta)\n",
    "data_cpu_metrics2 = extract(cpu_usr_util_query, start, end, time_delta)"
   ]
  },
  {
   "cell_type": "markdown",
   "id": "f39f74ed-bd7b-4871-b18b-d28f23602795",
   "metadata": {},
   "source": [
    "## Metrics visualization using seaborn.object"
   ]
  },
  {
   "cell_type": "code",
   "execution_count": null,
   "id": "532b3a9a-7c6e-467f-852e-e2a1a3c6e727",
   "metadata": {
    "editable": true,
    "slideshow": {
     "slide_type": ""
    },
    "tags": []
   },
   "outputs": [],
   "source": [
    "import seaborn.objects as so\n",
    "\n",
    "data_cpu_metrics['datetime'] = pd.to_datetime(data_cpu_metrics['datetime'], unit='s')\n",
    "data_cpu_metrics2['datetime'] = pd.to_datetime(data_cpu_metrics2['datetime'], unit='s')\n",
    "\n",
    "so.Plot(data_cpu_metrics, x=\"datetime\", y=\"value\",color=\"metric\").add(so.Dots())\n",
    "so.Plot(data_cpu_metrics2, x=\"datetime\", y=\"value\",color=\"metric\").add(so.Dots())\n"
   ]
  },
  {
   "cell_type": "markdown",
   "id": "2a7dc2a0-32af-41ca-9895-bf3411021054",
   "metadata": {},
   "source": [
    "_References:_\n",
    "\n",
    "_https://shopify.engineering/export-datadog-metrics-in-jupyter-notebooks_\n",
    "\n",
    "_https://github.com/DataDog/datadog-api-client-python/tree/master/examples/v1/usage-metering_\n",
    "\n",
    "_https://github.com/DataDog/datadog-api-client-python_"
   ]
  }
 ],
 "metadata": {
  "kernelspec": {
   "display_name": "Python 3 (ipykernel)",
   "language": "python",
   "name": "python3"
  },
  "language_info": {
   "codemirror_mode": {
    "name": "ipython",
    "version": 3
   },
   "file_extension": ".py",
   "mimetype": "text/x-python",
   "name": "python",
   "nbconvert_exporter": "python",
   "pygments_lexer": "ipython3",
   "version": "3.11.4"
  }
 },
 "nbformat": 4,
 "nbformat_minor": 5
}
