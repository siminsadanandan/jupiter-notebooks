{
 "cells": [
  {
   "cell_type": "markdown",
   "id": "10c9633a-ac7e-4c80-837a-54ab60734cd7",
   "metadata": {},
   "source": [
    "# JMeter results (.csv) file analysis notebook\n",
    "- copy the results .csv file to the docker mounted volume which is the directory from where you started this container\n",
    "\n",
    "- make sure we have column header name as the 1st rown in the below order _timeStamp,elapsed,label,responseCode,responseMessage,threadName,dataType,success,failureMessage,bytes,sentBytes,grpThreads,allThreads,Latency,Connect_\n",
    "\n",
    "- transaction controller name have the workspace/tenant id suffixed as _<workspaceid/tenantid>\n",
    "\n",
    "> *Dataframe is sensitive to whitespaces, make sure in the label and other places there are not leading/trailing whitespaces at all*\n"
   ]
  },
  {
   "cell_type": "code",
   "execution_count": null,
   "id": "d9b1d754-cee5-4e7f-8084-490506f6ce39",
   "metadata": {
    "editable": true,
    "slideshow": {
     "slide_type": ""
    },
    "tags": []
   },
   "outputs": [],
   "source": [
    "import pandas as pd\n",
    "import seaborn.objects as so\n",
    "import seaborn as sns\n",
    "\n",
    "file_path = '/home/ubuntu/work/jmeter_disconnect_results_jmeter-result.csv'\n",
    "df = pd.read_csv(file_path)\n",
    "\n",
    "df['timeStamp'] = pd.to_datetime(df['timeStamp'], unit='ms')\n",
    "\n",
    "# filter out only the transaction level data points\n",
    "df_filtered = df[df.responseMessage.str.match('Number of samples in transaction.*',na=False)]\n",
    "\n",
    "# label name have tenant/workspace as suffix, split the label column into 2 with a regex and \n",
    "# the new column will be added as workspace dimension\n",
    "df_filtered[['label','workspace']] = df_filtered['label'].str.extract('(.*)_(.+)$',expand=True)\n",
    "\n",
    "# generate a new column lat_perc_of_resp_time expressing latency as % of reponse time\n",
    "df_filtered ['lat_perc_of_resp_time'] = 100*df_filtered['Latency']/df_filtered['elapsed']\n",
    "\n",
    "# generate a new column conn_perc_of_resp_time expressing connect time as % of reponse time\n",
    "df_filtered ['conn_perc_of_resp_time'] = 100*df_filtered['Connect']/df_filtered['elapsed']\n"
   ]
  },
  {
   "cell_type": "markdown",
   "id": "4df383c9-567a-4349-9c3c-2e95313db318",
   "metadata": {},
   "source": [
    "## Total test duration"
   ]
  },
  {
   "cell_type": "code",
   "execution_count": null,
   "id": "274741b6-6cf3-4214-bce3-8a85efb1f00e",
   "metadata": {},
   "outputs": [],
   "source": [
    "df.reset_index().set_index('timeStamp',inplace=True)\n",
    "print (df.timeStamp.iloc[-1] -df.timeStamp.iloc[0])"
   ]
  },
  {
   "cell_type": "markdown",
   "id": "377c498c-8d33-4695-8ff5-26a5feebf59b",
   "metadata": {},
   "source": [
    "## Elapsed/response time summary\n",
    "breakup by workspace/tenantid"
   ]
  },
  {
   "cell_type": "code",
   "execution_count": null,
   "id": "5320c3d6-28b8-40b9-9783-ee7bbfcf0603",
   "metadata": {},
   "outputs": [],
   "source": [
    "df_filtered.groupby('workspace')['elapsed'].describe ()"
   ]
  },
  {
   "cell_type": "markdown",
   "id": "161bde12-b518-479f-a31e-162b9a0c4bb7",
   "metadata": {},
   "source": [
    "## Downsampling elapsed, Latency, Connect column\n",
    "5 sec interval with aggregation function max applied"
   ]
  },
  {
   "cell_type": "code",
   "execution_count": null,
   "id": "67bce01f-13f9-4890-b847-1279e6b80bcf",
   "metadata": {},
   "outputs": [],
   "source": [
    "# convert the index to DatetimeIndex from RangeIndex for aiding with downsampling etc\n",
    "df_downsample = df.copy()\n",
    "df_downsample.set_index('timeStamp',inplace=True)\n",
    "df_downsample = df_downsample[[\"elapsed\",\"Latency\",\"Connect\"]].resample(\"5s\").max()\n",
    "df_downsample.plot()"
   ]
  },
  {
   "cell_type": "markdown",
   "id": "3c83c4d9-8ce4-4e27-9529-d3a2e48a9063",
   "metadata": {},
   "source": [
    "## Individual _elapsed/response time_ plot per transaction (facet col=label) and grouped by workspace (color=workspace)"
   ]
  },
  {
   "cell_type": "code",
   "execution_count": null,
   "id": "492c2865-917e-478f-b1c1-00676c7ffea8",
   "metadata": {},
   "outputs": [],
   "source": [
    "\n",
    "(\n",
    "    so.Plot(df_filtered, x=\"timeStamp\", y=\"elapsed\", color=\"workspace\")\n",
    "    .facet(col = 'label',wrap=9)\n",
    "    .add(so.Line())\n",
    "    .layout(size=(90, 15),engine=\"constrained\")\n",
    ")\n"
   ]
  },
  {
   "cell_type": "markdown",
   "id": "1e086dd8-2bef-45bd-92ba-4e5f582e6b33",
   "metadata": {},
   "source": [
    "## Individual _latency time_ plot per transaction (facet col=label) and grouped by workspace (color=workspace)"
   ]
  },
  {
   "cell_type": "code",
   "execution_count": null,
   "id": "f6ecdc34-3d88-46ee-9fd0-51bce6a1e76b",
   "metadata": {
    "scrolled": true
   },
   "outputs": [],
   "source": [
    "(\n",
    "    so.Plot(df_filtered, x=\"timeStamp\", y=\"Latency\", color=\"workspace\")\n",
    "    .facet(col = 'label',wrap=9)\n",
    "    .add(so.Line())\n",
    "    .layout(size=(90, 15),engine=\"constrained\")\n",
    ")"
   ]
  },
  {
   "cell_type": "markdown",
   "id": "cac5f8bd-c4c5-430d-b2f1-d63db3f115d2",
   "metadata": {},
   "source": [
    "## Individual _Connect time_ plot per transaction (facet col=label) and grouped by workspace (color=workspace)"
   ]
  },
  {
   "cell_type": "code",
   "execution_count": null,
   "id": "83bce658-b508-4dba-b191-fb00e99a8007",
   "metadata": {
    "scrolled": true
   },
   "outputs": [],
   "source": [
    "(\n",
    "    so.Plot(df_filtered, x=\"timeStamp\", y=\"Connect\", color=\"workspace\")\n",
    "    .facet(col = 'label',wrap=9)\n",
    "    .add(so.Line())\n",
    "    .layout(size=(90, 15),engine=\"constrained\")\n",
    ")"
   ]
  },
  {
   "cell_type": "markdown",
   "id": "5a28d882-d2ab-4095-857f-a58bff969014",
   "metadata": {},
   "source": [
    "## Filter elapsed/response time > 5sec, plot transaction across workspace\n",
    "Aggregation max/min/mean/count"
   ]
  },
  {
   "cell_type": "code",
   "execution_count": null,
   "id": "80b6090b-9792-4391-9886-5ff86b4a6a94",
   "metadata": {},
   "outputs": [],
   "source": [
    "p_table = pd.pivot_table( data=df_filtered, \n",
    "                        index=['label'], \n",
    "                        columns=['workspace'], \n",
    "                        values='elapsed',\n",
    "                        aggfunc=['max','min', 'mean', 'count'],\n",
    "                        fill_value=\"None\")\n",
    "\n",
    "#p_table\n",
    "p_table[p_table[\"mean\"] > 5000]"
   ]
  },
  {
   "cell_type": "markdown",
   "id": "550e492b-ceed-4053-9e02-bba90e3d9d3b",
   "metadata": {},
   "source": [
    "## Max elapsed/response time and threadcount summary across workspaces\n",
    "Aggregation max for both elapsed/response time and threadcount/allThreads\n",
    "Filter only transactions with response time > 5sec\n",
    "Ref: https://datagy.io/python-pivot-tables/"
   ]
  },
  {
   "cell_type": "code",
   "execution_count": null,
   "id": "e72ba3d5-20a0-494f-a635-fe8cd22edce8",
   "metadata": {},
   "outputs": [],
   "source": [
    "p_table = pd.pivot_table( data=df_filtered, \n",
    "                        index=['label'], \n",
    "                        values=['elapsed','allThreads'],\n",
    "                        aggfunc={'elapsed':'max','allThreads':'max'},\n",
    "                        fill_value=\"None\")\n",
    "\n",
    "#p_table\n",
    "print(p_table[p_table[\"elapsed\"] > 5000])"
   ]
  },
  {
   "cell_type": "markdown",
   "id": "bfe9b20e-64d5-44b5-b450-4ebc1759c9f7",
   "metadata": {},
   "source": [
    "## Regression/trend analysis for elapsed/response time\n",
    "Original data resampled to 5 sec interval "
   ]
  },
  {
   "cell_type": "code",
   "execution_count": null,
   "id": "fbc33e99-7ba1-4ec4-9632-763640a22d9e",
   "metadata": {},
   "outputs": [],
   "source": [
    "import numpy as np\n",
    "\n",
    "df_fit = df_filtered.copy()\n",
    "\n",
    "# Convert 'timeStamp' column to datetime\n",
    "df_fit['timeStamp'] = pd.to_datetime(df_fit['timeStamp'])\n",
    "\n",
    "# Convert datetime to numeric representation (Unix epoch time in this case)\n",
    "df_fit['date_ordinal'] = df_fit['timeStamp'].astype(int) // 10**9\n",
    "\n",
    "# Fit a linear regression line using 'x_numeric' and 'y' columns and get the slope\n",
    "coefficients = np.polyfit(df_fit['date_ordinal'], df_fit['elapsed'], 1)\n",
    "slope = coefficients[0]\n",
    "\n",
    "# Optional: You can convert the slope back to a human-readable format\n",
    "# Assuming the slope is in units per second (m/s in this case)\n",
    "slope_human_readable = slope * (10**9)\n",
    "\n",
    "print(\"Slope:\", slope)\n",
    "print(\"Slope (human-readable):\", slope_human_readable)\n"
   ]
  },
  {
   "cell_type": "code",
   "execution_count": null,
   "id": "7df8e83e-a54e-419a-8b57-9b456f3e39bb",
   "metadata": {},
   "outputs": [],
   "source": [
    "## Regression/trend analysis for elapsed/response time (using sklearn package)\n",
    "Original data resampled to 5 sec interval "
   ]
  },
  {
   "cell_type": "code",
   "execution_count": null,
   "id": "1a0f1057-1efe-42bd-ae3c-d31b2f79cabf",
   "metadata": {},
   "outputs": [],
   "source": [
    "from sklearn import linear_model\n",
    "import datetime as dt\n",
    "\n",
    "df_reg = df_filtered.copy()\n",
    "\n",
    "df_reg = pd.DataFrame(df_reg, columns=['timeStamp', 'elapsed'])\n",
    "\n",
    "df_reg['date_ordinal'] = df_fit['timeStamp'].astype(int) // 10**9\n",
    "\n",
    "reg = linear_model.LinearRegression()\n",
    "reg.fit(df_reg['date_ordinal'].values.reshape(-1, 1), df_reg['elapsed'].values)\n",
    "reg.coef_\n"
   ]
  },
  {
   "cell_type": "code",
   "execution_count": null,
   "id": "6eccdeea-3c25-4ccc-b4ac-89cf352ffdee",
   "metadata": {},
   "outputs": [],
   "source": [
    "## Plot elapsed/response time trend graph\n",
    "_It takes some time to load all the individual plots_"
   ]
  },
  {
   "cell_type": "code",
   "execution_count": null,
   "id": "cc75f83e-e823-426f-a558-f23f025d1290",
   "metadata": {},
   "outputs": [],
   "source": [
    "# Using Hue to Add an Additional Variable to Seaborn lmplot()\n",
    "import matplotlib.pyplot as plt\n",
    "df_mat_plot = df_filtered.copy()\n",
    "\n",
    "df_mat_plot = pd.DataFrame(df_mat_plot, columns=['timeStamp', 'elapsed','label', 'workspace'])\n",
    "\n",
    "df_mat_plot['date_ordinal'] = df_mat_plot['timeStamp'].astype(int) // 10**9\n",
    "\n",
    "#sns.lmplot(data=df_mat_plot, x='date_ordinal', y='elapsed', hue='workspace')\n",
    "\n",
    "#sns.regplot(data=df_mat_plot, x='date_ordinal', y='elapsed')\n",
    "\n",
    "sns.lmplot(data=df_mat_plot, x='date_ordinal', y='elapsed', col='workspace', row='label')\n",
    "\n",
    "plt.show()"
   ]
  },
  {
   "cell_type": "code",
   "execution_count": null,
   "id": "dd9c6a21-5afb-442a-84e3-7bfa52a84a51",
   "metadata": {},
   "outputs": [],
   "source": []
  }
 ],
 "metadata": {
  "kernelspec": {
   "display_name": "Python 3 (ipykernel)",
   "language": "python",
   "name": "python3"
  },
  "language_info": {
   "codemirror_mode": {
    "name": "ipython",
    "version": 3
   },
   "file_extension": ".py",
   "mimetype": "text/x-python",
   "name": "python",
   "nbconvert_exporter": "python",
   "pygments_lexer": "ipython3",
   "version": "3.11.4"
  }
 },
 "nbformat": 4,
 "nbformat_minor": 5
}
